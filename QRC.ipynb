{
  "nbformat": 4,
  "nbformat_minor": 0,
  "metadata": {
    "colab": {
      "provenance": [],
      "name": "QRC.ipynb",
      "history_visible": true,
      "gpuType": "T4",
      "authorship_tag": "ABX9TyM/afouaGLnz14r3/mM/xmV",
      "include_colab_link": true
    },
    "kernelspec": {
      "name": "python3",
      "display_name": "Python 3"
    },
    "language_info": {
      "name": "python"
    },
    "accelerator": "GPU"
  },
  "cells": [
    {
      "cell_type": "markdown",
      "metadata": {
        "id": "view-in-github",
        "colab_type": "text"
      },
      "source": [
        "<a href=\"https://colab.research.google.com/github/Panperception/QKD/blob/main/QRC.ipynb\" target=\"_parent\"><img src=\"https://colab.research.google.com/assets/colab-badge.svg\" alt=\"Open In Colab\"/></a>"
      ]
    },
    {
      "cell_type": "markdown",
      "source": [
        "## Step-by-Step Process\n",
        "1. Fetching Stock Price Data\n",
        "We’ll use the yfinance library to download historical closing prices for a stock, such as Apple (AAPL), over a specific period (e.g., 2020 to 2023). This gives us a realistic time-series dataset.\n",
        "2. Preprocessing the Data\n",
        "Stock prices vary widely in scale compared to a sine wave, so we need to preprocess them:\n",
        "Normalization: Scale the prices to a range like [-1, 1] based on the dataset’s minimum and maximum values, then further adjust to [-π, π] to suit the quantum circuit’s rotation gates.\n",
        "Sequences and Targets: Create sequences of length T (e.g., 5 days) from the normalized data, with the next value (e.g., the 6th day) as the target for prediction.\n",
        "3. Quantum Reservoir Circuit\n",
        "The QRC model uses a quantum circuit to process each sequence:\n",
        "Input Encoding: At each time step, encode the current stock price value into a qubit (e.g., qubit 0) using an RZ gate, scaled by a factor like π.\n",
        "Random Rotations: Apply fixed random RY rotations to all qubits to create a reservoir-like dynamics.\n",
        "Mixing: Use CNOT gates to entangle the qubits, spreading the input information across the system.\n",
        "This process repeats for each time step in the sequence.\n",
        "4. Feature Extraction\n",
        "After processing the sequence, simulate the circuit and compute the expectation values of the Pauli-Z operator for each qubit. These values serve as features for the prediction model.\n",
        "5. Training and Evaluation\n",
        "Use the features to train a simple linear regression model to predict the next stock price. Evaluate the model’s performance using the mean squared error (MSE) between the predictions and actual targets.\n"
      ],
      "metadata": {
        "id": "j_fns0UxH2RN"
      }
    },
    {
      "cell_type": "markdown",
      "source": [
        "## Example Code\n",
        "Here’s a complete Python script to test the QRC model on stock price data:"
      ],
      "metadata": {
        "id": "ZSVfI2SIshTa"
      }
    },
    {
      "cell_type": "code",
      "source": [
        "!pip install 'qiskit==1'\n",
        "!pip install qiskit-aer\n",
        "!pip install qiskit-terra[visualization]\n"
      ],
      "metadata": {
        "id": "8QJMbule4KQa"
      },
      "execution_count": null,
      "outputs": []
    },
    {
      "cell_type": "code",
      "source": [
        "import numpy as np\n",
        "import yfinance as yf\n",
        "from qiskit import QuantumCircuit\n",
        "from qiskit.quantum_info import Statevector\n",
        "from sklearn.linear_model import LinearRegression\n",
        "from sklearn.metrics import mean_squared_error\n",
        "from qiskit.opflow import I, Z #This line imports I and Z from the necessary module\n",
        "\n",
        "# Parameters\n",
        "n_qubits = 4  # Number of qubits in the reservoir\n",
        "T = 5         # Length of the input sequence\n",
        "alpha = np.pi  # Scaling factor for input encoding\n",
        "\n",
        "# Fetch stock data (Apple closing prices from 2020-2023)\n",
        "stock_data = yf.download('AAPL', start='2020-01-01', end='2023-01-01')['Close'].values\n",
        "\n",
        "# Normalize to [-1, 1] and scale to [-π, π]\n",
        "stock_data_normalized = (stock_data - np.min(stock_data)) / (np.max(stock_data) - np.min(stock_data)) * 2 - 1\n",
        "stock_data_scaled = stock_data_normalized * np.pi\n",
        "\n",
        "# Create sequences and targets\n",
        "sequences = [stock_data_scaled[i:i+T] for i in range(len(stock_data_scaled) - T)]\n",
        "targets = [stock_data_scaled[i+T] for i in range(len(stock_data_scaled) - T)]\n",
        "\n",
        "# Generate random angles for RY gates (fixed for the reservoir)\n",
        "np.random.seed(42)  # For reproducibility\n",
        "theta = np.random.uniform(-np.pi, np.pi, size=n_qubits)\n",
        "\n",
        "# Define the quantum circuit for a sequence\n",
        "def build_circuit(seq, theta):\n",
        "    qc = QuantumCircuit(n_qubits)\n",
        "    for t in range(T):\n",
        "        # Encode input: RZ rotation on qubit 0\n",
        "        qc.rz(alpha * seq[t][0], 0) # Access the numerical value using [0]\n",
        "        # Apply random RY rotations to all qubits\n",
        "        for j in range(n_qubits):\n",
        "            qc.ry(theta[j], j)\n",
        "        # Apply CNOT chain for mixing\n",
        "        for j in range(n_qubits - 1):\n",
        "            qc.cx(j, j+1)\n",
        "    return qc\n",
        "\n",
        "# Simulate and get expectation values for Z on each qubit\n",
        "features = []\n",
        "for seq in sequences:\n",
        "    qc = build_circuit(seq, theta)\n",
        "    state = Statevector.from_instruction(qc)\n",
        "    # Compute <Z> for each qubit\n",
        "    expectations = [state.expectation_value(I.tensorpower(i) ^ Z ^ I.tensorpower(n_qubits - i - 1)) for i in range(n_qubits)] #Changed this line\n",
        "    features.append(expectations)\n",
        "\n",
        "features = np.array(features)\n",
        "\n",
        "# Train linear regression model\n",
        "model = LinearRegression()\n",
        "model.fit(features, targets)\n",
        "\n",
        "# Predict and evaluate on training data\n",
        "predictions = model.predict(features)\n",
        "mse = mean_squared_error(targets, predictions)\n",
        "print(f\"Training MSE: {mse}\")"
      ],
      "metadata": {
        "colab": {
          "base_uri": "https://localhost:8080/",
          "height": 626
        },
        "id": "obc_Q4YUKIst",
        "outputId": "92f3129a-d958-4566-be46-c1b45e6e5bce"
      },
      "execution_count": 4,
      "outputs": [
        {
          "output_type": "error",
          "ename": "ImportError",
          "evalue": "Qiskit is installed in an invalid environment that has both Qiskit >=1.0 and an earlier version. You should create a new virtual environment, and ensure that you do not mix dependencies between Qiskit <1.0 and >=1.0. Any packages that depend on 'qiskit-terra' are not compatible with Qiskit 1.0 and will need to be updated. Qiskit unfortunately cannot enforce this requirement during environment resolution. See https://qisk.it/packaging-1-0 for more detail.",
          "traceback": [
            "\u001b[0;31m---------------------------------------------------------------------------\u001b[0m",
            "\u001b[0;31mImportError\u001b[0m                               Traceback (most recent call last)",
            "\u001b[0;32m<ipython-input-4-713d21882467>\u001b[0m in \u001b[0;36m<cell line: 0>\u001b[0;34m()\u001b[0m\n\u001b[1;32m      1\u001b[0m \u001b[0;32mimport\u001b[0m \u001b[0mnumpy\u001b[0m \u001b[0;32mas\u001b[0m \u001b[0mnp\u001b[0m\u001b[0;34m\u001b[0m\u001b[0;34m\u001b[0m\u001b[0m\n\u001b[1;32m      2\u001b[0m \u001b[0;32mimport\u001b[0m \u001b[0myfinance\u001b[0m \u001b[0;32mas\u001b[0m \u001b[0myf\u001b[0m\u001b[0;34m\u001b[0m\u001b[0;34m\u001b[0m\u001b[0m\n\u001b[0;32m----> 3\u001b[0;31m \u001b[0;32mfrom\u001b[0m \u001b[0mqiskit\u001b[0m \u001b[0;32mimport\u001b[0m \u001b[0mQuantumCircuit\u001b[0m\u001b[0;34m\u001b[0m\u001b[0;34m\u001b[0m\u001b[0m\n\u001b[0m\u001b[1;32m      4\u001b[0m \u001b[0;32mfrom\u001b[0m \u001b[0mqiskit\u001b[0m\u001b[0;34m.\u001b[0m\u001b[0mquantum_info\u001b[0m \u001b[0;32mimport\u001b[0m \u001b[0mStatevector\u001b[0m\u001b[0;34m\u001b[0m\u001b[0;34m\u001b[0m\u001b[0m\n\u001b[1;32m      5\u001b[0m \u001b[0;32mfrom\u001b[0m \u001b[0msklearn\u001b[0m\u001b[0;34m.\u001b[0m\u001b[0mlinear_model\u001b[0m \u001b[0;32mimport\u001b[0m \u001b[0mLinearRegression\u001b[0m\u001b[0;34m\u001b[0m\u001b[0;34m\u001b[0m\u001b[0m\n",
            "\u001b[0;32m/usr/local/lib/python3.11/dist-packages/qiskit/__init__.py\u001b[0m in \u001b[0;36m<module>\u001b[0;34m\u001b[0m\n\u001b[1;32m     34\u001b[0m     \u001b[0m_suppress_error\u001b[0m \u001b[0;34m=\u001b[0m \u001b[0mos\u001b[0m\u001b[0;34m.\u001b[0m\u001b[0menviron\u001b[0m\u001b[0;34m.\u001b[0m\u001b[0mget\u001b[0m\u001b[0;34m(\u001b[0m\u001b[0;34m\"QISKIT_SUPPRESS_1_0_IMPORT_ERROR\"\u001b[0m\u001b[0;34m,\u001b[0m \u001b[0;32mFalse\u001b[0m\u001b[0;34m)\u001b[0m \u001b[0;34m==\u001b[0m \u001b[0;34m\"1\"\u001b[0m\u001b[0;34m\u001b[0m\u001b[0;34m\u001b[0m\u001b[0m\n\u001b[1;32m     35\u001b[0m     \u001b[0;32mif\u001b[0m \u001b[0;32mnot\u001b[0m \u001b[0m_suppress_error\u001b[0m \u001b[0;32mand\u001b[0m \u001b[0m_has_tools\u001b[0m\u001b[0;34m:\u001b[0m\u001b[0;34m\u001b[0m\u001b[0;34m\u001b[0m\u001b[0m\n\u001b[0;32m---> 36\u001b[0;31m         raise ImportError(\n\u001b[0m\u001b[1;32m     37\u001b[0m             \u001b[0;34m\"Qiskit is installed in an invalid environment that has both Qiskit >=1.0\"\u001b[0m\u001b[0;34m\u001b[0m\u001b[0;34m\u001b[0m\u001b[0m\n\u001b[1;32m     38\u001b[0m             \u001b[0;34m\" and an earlier version.\"\u001b[0m\u001b[0;34m\u001b[0m\u001b[0;34m\u001b[0m\u001b[0m\n",
            "\u001b[0;31mImportError\u001b[0m: Qiskit is installed in an invalid environment that has both Qiskit >=1.0 and an earlier version. You should create a new virtual environment, and ensure that you do not mix dependencies between Qiskit <1.0 and >=1.0. Any packages that depend on 'qiskit-terra' are not compatible with Qiskit 1.0 and will need to be updated. Qiskit unfortunately cannot enforce this requirement during environment resolution. See https://qisk.it/packaging-1-0 for more detail.",
            "",
            "\u001b[0;31m---------------------------------------------------------------------------\u001b[0;32m\nNOTE: If your import is failing due to a missing package, you can\nmanually install dependencies using either !pip or !apt.\n\nTo view examples of installing some common dependencies, click the\n\"Open Examples\" button below.\n\u001b[0;31m---------------------------------------------------------------------------\u001b[0m\n"
          ],
          "errorDetails": {
            "actions": [
              {
                "action": "open_url",
                "actionText": "Open Examples",
                "url": "/notebooks/snippets/importing_libraries.ipynb"
              }
            ]
          }
        }
      ]
    },
    {
      "cell_type": "markdown",
      "source": [
        "### Explanation of the Code\n",
        "* Libraries: We use yfinance for stock data, qiskit for quantum simulation, and sklearn for linear regression and evaluation.\n",
        "* Data Fetching: Downloads Apple’s closing prices from 2020 to 2023.\n",
        "* Normalization: Scales the data to [-π, π] for quantum encoding.\n",
        "* Quantum Circuit: Processes each sequence of T=5 values, encoding them step-by-step and mixing with random rotations and CNOTs.\n",
        "* Features: Extracts expectation values from the final quantum state.\n",
        "* Model: Trains a linear regression model and computes the MSE on the training data.\n",
        "\n",
        "### Notes and Considerations\n",
        "* Scalability: This example uses a small number of qubits (n_qubits=4) and sequence length (T=5) to keep the simulation manageable on a classical computer. Larger systems may require quantum hardware or optimized simulators.\n",
        "* Performance: The random reservoir might not capture complex stock price patterns perfectly. You could experiment with more qubits, longer sequences, or a different reservoir structure.\n",
        "* Evaluation: This code evaluates on training data for simplicity. For a more robust test, split the data into training and testing sets.\n",
        "* Flexibility: You can easily modify the stock ticker (e.g., 'MSFT' for Microsoft) or time period in the yf.download call.\n",
        "\n",
        "### Conclusion\n",
        "Testing a QRC model on stock price data is not only feasible but also a great way to explore its potential with real-world time series. The example above demonstrates how to fetch, preprocess, and model stock data using a quantum reservoir, providing a practical starting point. Feel free to tweak the parameters or dataset to suit your needs!"
      ],
      "metadata": {
        "id": "xr8PlkU8Ih0y"
      }
    }
  ]
}